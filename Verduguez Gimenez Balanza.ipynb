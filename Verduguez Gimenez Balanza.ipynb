{
  "nbformat": 4,
  "nbformat_minor": 0,
  "metadata": {
    "colab": {
      "provenance": []
    },
    "kernelspec": {
      "name": "python3",
      "display_name": "Python 3"
    },
    "language_info": {
      "name": "python"
    }
  },
  "cells": [
    {
      "cell_type": "code",
      "execution_count": 1,
      "metadata": {
        "id": "IdNx8QLGusuW"
      },
      "outputs": [],
      "source": [
        "import pandas as pd \n",
        "from sklearn.tree import DecisionTreeClassifier"
      ]
    },
    {
      "cell_type": "code",
      "source": [
        "datos = pd.read_csv('nota.csv')"
      ],
      "metadata": {
        "id": "daIMZgMxvJuB"
      },
      "execution_count": 2,
      "outputs": []
    },
    {
      "cell_type": "code",
      "source": [
        "a = datos.drop(columns='precio_entrada')\n",
        "b = datos ['precio_entrada']\n"
      ],
      "metadata": {
        "id": "EeSfMqvCvWmw"
      },
      "execution_count": 12,
      "outputs": []
    },
    {
      "cell_type": "code",
      "source": [
        "edad = int(input(\"Ingrese edad: \"))\n",
        "modelo = DecisionTreeClassifier()\n",
        "modelo.fit(a,b)\n",
        "prediccion2= modelo.predict([[edad]])\n",
        "prediccion2"
      ],
      "metadata": {
        "id": "fs9UwqVbw47R"
      },
      "execution_count": null,
      "outputs": []
    }
  ]
}